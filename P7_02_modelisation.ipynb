{
 "cells": [
  {
   "cell_type": "markdown",
   "id": "47a65f11",
   "metadata": {},
   "source": [
    "## Objectif :  \n",
    "\n",
    "Dans ce notebook, nous allons réaliser plusieurs tests de prédiction de la variable TARGET à partir des features. Pour ce faire, nous devons tout d'abord diviser le df \"data_train\" vers une partie entrainement et autre test. Ensuite, Nous allons lancer notre baseline de comparaison basé sur l'algorithme grâce à hyperopt, nous allons lancer la prédiction afin d'optimiser les hyperparamètres.   \n",
    "\n",
    "La bibliothèque hyperopt a un but similaire à gridsearch, mais au lieu de faire une recherche exhaustive de l’espace de paramètre, il évalue quelques points de données bien choisis, puis extrapole la solution optimale basée sur la modélisation. En pratique, cela signifie qu’il faut souvent beaucoup moins d’itérations pour trouver une bonne solution."
   ]
  },
  {
   "cell_type": "code",
   "execution_count": 1,
   "id": "f8973bdc",
   "metadata": {},
   "outputs": [],
   "source": [
    "import pandas as pd\n",
    "import seaborn as sns\n",
    "import time, pickle\n",
    "from sklearn.model_selection import train_test_split, StratifiedKFold\n",
    "import matplotlib.pyplot as plt\n",
    "%matplotlib inline"
   ]
  },
  {
   "cell_type": "code",
   "execution_count": 2,
   "id": "6f3fb5a9",
   "metadata": {},
   "outputs": [],
   "source": [
    "# charger les données d'entrainement\n",
    "data_train = pd.read_csv('Data/preprocessed_Data/data_train.csv', index_col='SK_ID_CURR')"
   ]
  },
  {
   "cell_type": "code",
   "execution_count": 3,
   "id": "0e8394cf",
   "metadata": {},
   "outputs": [
    {
     "data": {
      "text/plain": [
       "(307511, 248)"
      ]
     },
     "execution_count": 3,
     "metadata": {},
     "output_type": "execute_result"
    }
   ],
   "source": [
    "data_train.shape"
   ]
  },
  {
   "cell_type": "code",
   "execution_count": 4,
   "id": "0f55b31a",
   "metadata": {},
   "outputs": [],
   "source": [
    "# charger la variable TARGET\n",
    "TARGET= pd.read_csv('Data/preprocessed_Data/TARGET.csv', index_col='SK_ID_CURR')"
   ]
  },
  {
   "cell_type": "code",
   "execution_count": 5,
   "id": "c2b540d8",
   "metadata": {},
   "outputs": [
    {
     "data": {
      "text/plain": [
       "(307511, 1)"
      ]
     },
     "execution_count": 5,
     "metadata": {},
     "output_type": "execute_result"
    }
   ],
   "source": [
    "TARGET.shape"
   ]
  },
  {
   "cell_type": "markdown",
   "id": "ff86ff6f",
   "metadata": {},
   "source": [
    "### Séparation train_split et test_split"
   ]
  },
  {
   "cell_type": "code",
   "execution_count": 6,
   "id": "2a88915b",
   "metadata": {},
   "outputs": [],
   "source": [
    "X_train, X_test, y_train, y_test = train_test_split(data_train.values, TARGET.values, test_size=0.3, random_state=42)"
   ]
  },
  {
   "cell_type": "code",
   "execution_count": 7,
   "id": "b997f77e",
   "metadata": {},
   "outputs": [
    {
     "data": {
      "text/plain": [
       "((215257, 248), (92254, 248), (215257, 1), (92254, 1))"
      ]
     },
     "execution_count": 7,
     "metadata": {},
     "output_type": "execute_result"
    }
   ],
   "source": [
    "X_train.shape, X_test.shape, y_train.shape, y_test.shape"
   ]
  },
  {
   "cell_type": "markdown",
   "id": "1ee60f46",
   "metadata": {},
   "source": [
    "### Baseline Model: DummyClassifier  \n",
    "\n",
    "Afin d'avoir une première idée des performances possibles, la modélisation par DummyClassifier permettra d'obtenir une baseline. Nous nous basons sur les résultats trouvés comme base de comparaison.   \n"
   ]
  },
  {
   "cell_type": "code",
   "execution_count": 8,
   "id": "cc1eed27",
   "metadata": {},
   "outputs": [
    {
     "name": "stdout",
     "output_type": "stream",
     "text": [
      "Requirement already satisfied: hyperopt in /home/soumaya/anaconda3/envs/openclassrooms/lib/python3.8/site-packages (0.2.7)\n",
      "Requirement already satisfied: networkx>=2.2 in /home/soumaya/anaconda3/envs/openclassrooms/lib/python3.8/site-packages (from hyperopt) (2.5)\n",
      "Requirement already satisfied: six in /home/soumaya/anaconda3/envs/openclassrooms/lib/python3.8/site-packages (from hyperopt) (1.15.0)\n",
      "Requirement already satisfied: cloudpickle in /home/soumaya/anaconda3/envs/openclassrooms/lib/python3.8/site-packages (from hyperopt) (1.6.0)\n",
      "Requirement already satisfied: py4j in /home/soumaya/anaconda3/envs/openclassrooms/lib/python3.8/site-packages (from hyperopt) (0.10.9.3)\n",
      "Requirement already satisfied: scipy in /home/soumaya/anaconda3/envs/openclassrooms/lib/python3.8/site-packages (from hyperopt) (1.6.2)\n",
      "Requirement already satisfied: tqdm in /home/soumaya/anaconda3/envs/openclassrooms/lib/python3.8/site-packages (from hyperopt) (4.59.0)\n",
      "Requirement already satisfied: numpy in /home/soumaya/anaconda3/envs/openclassrooms/lib/python3.8/site-packages (from hyperopt) (1.20.1)\n",
      "Requirement already satisfied: future in /home/soumaya/anaconda3/envs/openclassrooms/lib/python3.8/site-packages (from hyperopt) (0.18.2)\n",
      "Requirement already satisfied: decorator>=4.3.0 in /home/soumaya/anaconda3/envs/openclassrooms/lib/python3.8/site-packages (from networkx>=2.2->hyperopt) (5.0.6)\n",
      "Note: you may need to restart the kernel to use updated packages.\n"
     ]
    }
   ],
   "source": [
    "pip install hyperopt"
   ]
  },
  {
   "cell_type": "code",
   "execution_count": 9,
   "id": "06cf9d90",
   "metadata": {},
   "outputs": [],
   "source": [
    "from sklearn import metrics\n",
    "from sklearn.model_selection import cross_val_score\n",
    "from hyperopt import tpe, hp, fmin, STATUS_OK,Trials\n",
    "from hyperopt.pyll.base import scope\n",
    "from sklearn.metrics import accuracy_score, roc_auc_score, f1_score, precision_score, recall_score \n",
    "from sklearn.metrics import classification_report, confusion_matrix, roc_curve\n",
    "import warnings\n",
    "warnings.filterwarnings(\"ignore\")"
   ]
  },
  {
   "cell_type": "code",
   "execution_count": 10,
   "id": "2fffdb71",
   "metadata": {},
   "outputs": [],
   "source": [
    "from sklearn.dummy import DummyClassifier"
   ]
  },
  {
   "cell_type": "code",
   "execution_count": 11,
   "id": "d6854c68",
   "metadata": {},
   "outputs": [],
   "source": [
    "# définir le paramètre space pour l'optimisation  \n",
    "space = {\n",
    "    \"strategy\": hp.choice(\"strategy\", ['most_frequent', 'prior', 'stratified', 'uniform', 'constant']),\n",
    "   }"
   ]
  },
  {
   "cell_type": "markdown",
   "id": "546d9bc5",
   "metadata": {},
   "source": [
    "Notre fonction de minimisation est appelée hyperparamter_tuning et l’algorithme de classification pour optimiser son hyperparamètre est DummyClassifier. J’utilise la validation croisée pour éviter le overfitting, puis la fonction retourne une valeur de perte et son état.  \n",
    "Cela signifie que pendant le processus d’optimisation, nous formons le modèle avec des valeurs d’hyperparamètres sélectionnées et nous prédisons le TARGET, puis nous évaluons l’erreur de prédiction et nous la rendons à l’optimiseur. L’optimiseur décidera quelles valeurs vérifier et itérer à nouveau."
   ]
  },
  {
   "cell_type": "code",
   "execution_count": 12,
   "id": "63fb2d60",
   "metadata": {},
   "outputs": [],
   "source": [
    "# define objective function\n",
    "\n",
    "def hyperparameter_tuning(params):\n",
    "    clf = DummyClassifier(**params)\n",
    "    acc = cross_val_score(clf, X_train, y_train,scoring=\"accuracy\").mean()\n",
    "    return {\"loss\": -acc, \"status\": STATUS_OK}"
   ]
  },
  {
   "cell_type": "code",
   "execution_count": 13,
   "id": "b4672217",
   "metadata": {},
   "outputs": [
    {
     "name": "stdout",
     "output_type": "stream",
     "text": [
      "100%|██████████| 100/100 [00:44<00:00,  2.23trial/s, best loss: -0.9191106446044444]\n"
     ]
    }
   ],
   "source": [
    "best = fmin(\n",
    "    fn=hyperparameter_tuning,\n",
    "    space = space, \n",
    "    algo=tpe.suggest, \n",
    "    max_evals=100\n",
    ")"
   ]
  },
  {
   "cell_type": "markdown",
   "id": "4f22e2c6",
   "metadata": {},
   "source": [
    "--> best loss = -0.919 signifie que c'est un modèle avec accuracy= 91,91%"
   ]
  },
  {
   "cell_type": "code",
   "execution_count": 14,
   "id": "1d67cf70",
   "metadata": {},
   "outputs": [
    {
     "name": "stdout",
     "output_type": "stream",
     "text": [
      "Best: {'strategy': 1}\n"
     ]
    }
   ],
   "source": [
    "print(\"Best: {}\".format(best))"
   ]
  },
  {
   "cell_type": "markdown",
   "id": "13a6511c",
   "metadata": {},
   "source": [
    "--> la meilleur valeur du paramètre \"strategy\" est celui dans la liste dont l'indice est 1 --> strategy = \"prior\".  \n",
    "    Nous allons fitter le modèle sur nos données puis  prédire notre target. "
   ]
  },
  {
   "cell_type": "code",
   "execution_count": 15,
   "id": "79346b64",
   "metadata": {},
   "outputs": [],
   "source": [
    "Dummy_model = DummyClassifier(strategy='prior')"
   ]
  },
  {
   "cell_type": "code",
   "execution_count": 16,
   "id": "2be5c365",
   "metadata": {},
   "outputs": [
    {
     "data": {
      "text/plain": [
       "DummyClassifier()"
      ]
     },
     "execution_count": 16,
     "metadata": {},
     "output_type": "execute_result"
    }
   ],
   "source": [
    "Dummy_model.fit(X=X_train,y=y_train)\n"
   ]
  },
  {
   "cell_type": "markdown",
   "id": "443b8596",
   "metadata": {},
   "source": [
    "l’efficacité du modèle est déterminée en observant l’aire sous la courbe (AUC). Ainsi, le modèle le plus efficace a une AUC égale à 1, et le modèle le moins efficace a une AUC égale à 0,5."
   ]
  },
  {
   "cell_type": "code",
   "execution_count": 17,
   "id": "db4c1c21",
   "metadata": {},
   "outputs": [],
   "source": [
    "from sklearn.metrics import roc_curve, auc  \n",
    "def Performance(model, y_true, y_pred, y_pred_proba):\n",
    "    '''This function will make a pretty plot of \n",
    "  an sklearn Confusion Matrix using a Seaborn heatmap visualization + ROC Curve.'''\n",
    "    fig = plt.figure(figsize=(20,15))\n",
    "  \n",
    "    plt.subplot(221)\n",
    "    cf_matrix = confusion_matrix(y_true, y_pred)\n",
    "    group_names = ['True Neg', 'False Pos', 'False Neg', 'True Pos']\n",
    "    group_counts = [\"{0:0.0f}\".format(value) for value in cf_matrix.flatten()]\n",
    "    group_percentages = [\"{0:.2%}\".format(value) for value in cf_matrix.flatten()/np.sum(cf_matrix)]\n",
    "  \n",
    "    labels = [f\"{v1}\\n{v2}\\n{v3}\" for v1, v2, v3 in zip(group_names,group_counts,group_percentages)]\n",
    "    labels = np.asarray(labels).reshape(2,2)\n",
    "    sns.heatmap(cf_matrix, annot=labels, fmt=\"\", cmap='Blues')\n",
    "\n",
    "    plt.subplot(222)\n",
    "    fpr,tpr,_ = roc_curve(y_true, y_pred_proba)\n",
    "    plt.plot(fpr, tpr, color='orange', linewidth=5, label='AUC = %0.4f' %roc_auc)\n",
    "    plt.plot([0, 1], [0, 1], color='darkblue', linestyle='--')\n",
    "    plt.xlabel('False Positive Rate')\n",
    "    plt.ylabel('True Positive Rate')\n",
    "    plt.legend()\n",
    "\n",
    "    show()"
   ]
  },
  {
   "cell_type": "code",
   "execution_count": 18,
   "id": "14c738f2",
   "metadata": {},
   "outputs": [
    {
     "name": "stdout",
     "output_type": "stream",
     "text": [
      "AUC : 0.5000\n",
      "              precision    recall  f1-score   support\n",
      "\n",
      "         0.0       0.92      1.00      0.96     84841\n",
      "         1.0       0.00      0.00      0.00      7413\n",
      "\n",
      "    accuracy                           0.92     92254\n",
      "   macro avg       0.46      0.50      0.48     92254\n",
      "weighted avg       0.85      0.92      0.88     92254\n",
      "\n"
     ]
    }
   ],
   "source": [
    "roc_auc = roc_auc_score(y_test, Dummy_model.predict_proba(X_test)[:,1])\n",
    "print('AUC : %0.4f' %roc_auc)\n",
    "print(classification_report(y_test, Dummy_model.predict(X_test)))"
   ]
  },
  {
   "cell_type": "code",
   "execution_count": 19,
   "id": "be70c6b2",
   "metadata": {},
   "outputs": [
    {
     "name": "stdout",
     "output_type": "stream",
     "text": [
      "Populating the interactive namespace from numpy and matplotlib\n"
     ]
    }
   ],
   "source": [
    "%pylab inline"
   ]
  },
  {
   "cell_type": "code",
   "execution_count": 20,
   "id": "94a57b99",
   "metadata": {},
   "outputs": [
    {
     "data": {
      "image/png": "[encoded data removed]",
      "text/plain": [
       "<Figure size 1440x1080 with 3 Axes>"
      ]
     },
     "metadata": {
      "needs_background": "light"
     },
     "output_type": "display_data"
    }
   ],
   "source": [
    "Performance(Dummy_model, y_test, Dummy_model.predict(X_test), Dummy_model.predict_proba(X_test)[:,1])"
   ]
  },
  {
   "cell_type": "markdown",
   "id": "5328dba5",
   "metadata": {},
   "source": [
    "L'aire sous la courbe ROC (ou Area Under the Curve, AUC) peut être interprétée comme la probabilité que, parmi deux sujets choisis au hasard, TARGET =0 OU =1. Une AUC de 0,5 (50%) indique que le marqueur est non-informatif.   \n",
    "--> par conséquent, ce modèle montre qu'il est non performant et que la valeur d'accuracy = 91,91% est une valeur trompeuse. \n",
    "\n",
    "--> ceci est dû au déséquilibrage des deux classes TARGET= --> 0 et TARGET = 1.  --> Il est donc intéressant de travailler cet Oversampling (ou suréchantillonnage en français) en ajustant la distribution de classe de manière à avoir une répartition plus égalitaire."
   ]
  },
  {
   "cell_type": "markdown",
   "id": "bcb11dc3",
   "metadata": {},
   "source": [
    "### Oversampling Data en utilisant SMOTE  \n",
    "SMOTE avec Imbalance Data en utilisant imblearn module"
   ]
  },
  {
   "cell_type": "code",
   "execution_count": 21,
   "id": "46dbefe8",
   "metadata": {},
   "outputs": [
    {
     "name": "stdout",
     "output_type": "stream",
     "text": [
      "Classe 1, avant utilisation de SMOTE: 17412 \n",
      "Classe 0, avant utilisation SMOTE: 197845 \n"
     ]
    }
   ],
   "source": [
    "print(\"Classe 1, avant utilisation de SMOTE: {} \".format(sum(y_train==1)))\n",
    "print(\"Classe 0, avant utilisation SMOTE: {} \".format(sum(y_train==0)))"
   ]
  },
  {
   "cell_type": "code",
   "execution_count": 22,
   "id": "8d696678",
   "metadata": {},
   "outputs": [
    {
     "name": "stdout",
     "output_type": "stream",
     "text": [
      "Requirement already satisfied: imblearn in /home/soumaya/anaconda3/envs/openclassrooms/lib/python3.8/site-packages (0.0)\n",
      "Requirement already satisfied: imbalanced-learn in /home/soumaya/anaconda3/envs/openclassrooms/lib/python3.8/site-packages (from imblearn) (0.9.0)\n",
      "Requirement already satisfied: threadpoolctl>=2.0.0 in /home/soumaya/anaconda3/envs/openclassrooms/lib/python3.8/site-packages (from imbalanced-learn->imblearn) (2.1.0)\n",
      "Requirement already satisfied: scikit-learn>=1.0.1 in /home/soumaya/anaconda3/envs/openclassrooms/lib/python3.8/site-packages (from imbalanced-learn->imblearn) (1.0.2)\n",
      "Requirement already satisfied: joblib>=0.11 in /home/soumaya/anaconda3/envs/openclassrooms/lib/python3.8/site-packages (from imbalanced-learn->imblearn) (1.0.1)\n",
      "Requirement already satisfied: scipy>=1.1.0 in /home/soumaya/anaconda3/envs/openclassrooms/lib/python3.8/site-packages (from imbalanced-learn->imblearn) (1.6.2)\n",
      "Requirement already satisfied: numpy>=1.14.6 in /home/soumaya/anaconda3/envs/openclassrooms/lib/python3.8/site-packages (from imbalanced-learn->imblearn) (1.20.1)\n"
     ]
    }
   ],
   "source": [
    "!pip install imblearn"
   ]
  },
  {
   "cell_type": "markdown",
   "id": "1b6b5d62",
   "metadata": {},
   "source": [
    "**over-sampling:**  au lieu de créer des copies exactes des enregistrements de classe minoritaire, nous pouvons introduire de petites variations dans ces copies, créant des échantillons synthétiques plus diversifiés."
   ]
  },
  {
   "cell_type": "code",
   "execution_count": 23,
   "id": "b9e20317",
   "metadata": {},
   "outputs": [],
   "source": [
    "# équilibrage des classes\n",
    "\n",
    "from imblearn.over_sampling import SMOTE\n",
    "sm = SMOTE(random_state=2)\n",
    "X_train_res, y_train_res = sm.fit_resample(X_train, y_train)"
   ]
  },
  {
   "cell_type": "code",
   "execution_count": 24,
   "id": "ac4c3354",
   "metadata": {},
   "outputs": [
    {
     "name": "stdout",
     "output_type": "stream",
     "text": [
      "Classe 1, après utilisation de SMOTE: 197845 \n",
      "Classe 0, après utilisation de SMOTE: 197845 \n"
     ]
    }
   ],
   "source": [
    "# reverification des classes\n",
    "\n",
    "print(\"Classe 1, après utilisation de SMOTE: {} \".format(sum(y_train_res==1)))\n",
    "print(\"Classe 0, après utilisation de SMOTE: {} \".format(sum(y_train_res==0)))"
   ]
  },
  {
   "cell_type": "markdown",
   "id": "4bd6ffb0",
   "metadata": {},
   "source": [
    "### Re-entrainement du modèle baseline après équilibrage des classes"
   ]
  },
  {
   "cell_type": "code",
   "execution_count": 25,
   "id": "f6fc5558",
   "metadata": {},
   "outputs": [],
   "source": [
    "from sklearn.dummy import DummyClassifier"
   ]
  },
  {
   "cell_type": "code",
   "execution_count": 26,
   "id": "da157420",
   "metadata": {},
   "outputs": [],
   "source": [
    "def hyperparameter_tuning(params):\n",
    "    clf = DummyClassifier(**params, n_jobs=-1)\n",
    "    acc = cross_val_score(clf, X_train_res, y_train_res,scoring=\"accuracy\").mean()\n",
    "    return {\"loss\": -acc, \"status\": STATUS_OK}"
   ]
  },
  {
   "cell_type": "code",
   "execution_count": 27,
   "id": "e3b05b91",
   "metadata": {},
   "outputs": [],
   "source": [
    "trials = Trials()"
   ]
  },
  {
   "cell_type": "code",
   "execution_count": 28,
   "id": "98eccd11",
   "metadata": {
    "scrolled": true
   },
   "outputs": [
    {
     "ename": "ValueError",
     "evalue": "invalid number of arguments",
     "output_type": "error",
     "traceback": [
      "\u001b[0;31m---------------------------------------------------------------------------\u001b[0m",
      "\u001b[0;31mValueError\u001b[0m                                Traceback (most recent call last)",
      "\u001b[0;32m<ipython-input-28-100339d717db>\u001b[0m in \u001b[0;36m<module>\u001b[0;34m\u001b[0m\n\u001b[0;32m----> 1\u001b[0;31m best = fmin(\n\u001b[0m\u001b[1;32m      2\u001b[0m     \u001b[0mfn\u001b[0m\u001b[0;34m=\u001b[0m\u001b[0mhyperparameter_tuning\u001b[0m\u001b[0;34m,\u001b[0m\u001b[0;34m\u001b[0m\u001b[0;34m\u001b[0m\u001b[0m\n\u001b[1;32m      3\u001b[0m     \u001b[0mspace\u001b[0m \u001b[0;34m=\u001b[0m \u001b[0mspace\u001b[0m\u001b[0;34m,\u001b[0m\u001b[0;34m\u001b[0m\u001b[0;34m\u001b[0m\u001b[0m\n\u001b[1;32m      4\u001b[0m     \u001b[0malgo\u001b[0m\u001b[0;34m=\u001b[0m\u001b[0mtpe\u001b[0m\u001b[0;34m.\u001b[0m\u001b[0msuggest\u001b[0m\u001b[0;34m,\u001b[0m\u001b[0;34m\u001b[0m\u001b[0;34m\u001b[0m\u001b[0m\n\u001b[1;32m      5\u001b[0m     \u001b[0mmax_evals\u001b[0m\u001b[0;34m=\u001b[0m\u001b[0;36m100\u001b[0m\u001b[0;34m\u001b[0m\u001b[0;34m\u001b[0m\u001b[0m\n",
      "\u001b[0;31mValueError\u001b[0m: invalid number of arguments"
     ]
    }
   ],
   "source": [
    "best = fmin(\n",
    "    fn=hyperparameter_tuning,\n",
    "    space = space, \n",
    "    algo=tpe.suggest, \n",
    "    max_evals=100\n",
    "    \n",
    ")"
   ]
  },
  {
   "cell_type": "code",
   "execution_count": null,
   "id": "7f776e21",
   "metadata": {},
   "outputs": [],
   "source": [
    "print(\"Best: {}\".format(best))"
   ]
  },
  {
   "cell_type": "code",
   "execution_count": 29,
   "id": "462f0747",
   "metadata": {},
   "outputs": [
    {
     "name": "stdout",
     "output_type": "stream",
     "text": [
      "AUC : 0.5000\n",
      "              precision    recall  f1-score   support\n",
      "\n",
      "         0.0       0.92      0.50      0.65     84841\n",
      "         1.0       0.08      0.49      0.14      7413\n",
      "\n",
      "    accuracy                           0.50     92254\n",
      "   macro avg       0.50      0.50      0.39     92254\n",
      "weighted avg       0.85      0.50      0.61     92254\n",
      "\n"
     ]
    },
    {
     "data": {
      "image/png": "[encoded data removed]",
      "text/plain": [
       "<Figure size 1440x1080 with 3 Axes>"
      ]
     },
     "metadata": {
      "needs_background": "light"
     },
     "output_type": "display_data"
    }
   ],
   "source": [
    "Dummy_model = DummyClassifier(strategy='uniform')\n",
    "Dummy_model.fit(X=X_train_res,y=y_train_res)\n",
    "\n",
    "roc_auc = roc_auc_score(y_test, Dummy_model.predict_proba(X_test)[:,1])\n",
    "print('AUC : %0.4f' %roc_auc)\n",
    "print(classification_report(y_test, Dummy_model.predict(X_test)))\n",
    "\n",
    "Performance(Dummy_model, y_test, Dummy_model.predict(X_test), Dummy_model.predict_proba(X_test)[:,1])"
   ]
  },
  {
   "cell_type": "markdown",
   "id": "7ef61738",
   "metadata": {},
   "source": [
    "## Entrainer d'autres modèles de classification  \n",
    "\n",
    "### 1. Random Forest  \n",
    "\n",
    "Les forêts aléatoires fonctionnent en faisant la moyenne des prédictions de nombreux arbres de décision - l’idée est qu’en faisant la moyenne de nombreux arbres, les erreurs de chaque arbre sont aplanies. Chaque arbre de décision peut être quelque peu overfitted, en faisant la moyenne, le résultat final devrait être bon.\n",
    "\n",
    "Les paramètres importants à régler sont :\n",
    "\n",
    "Nombre d’arbres dans la forêt (n_estimators)\n",
    "Complexité de l’arborescence (max_depth)"
   ]
  },
  {
   "cell_type": "code",
   "execution_count": 31,
   "id": "e0a0e5c5",
   "metadata": {},
   "outputs": [],
   "source": [
    "from sklearn.ensemble import RandomForestClassifier"
   ]
  },
  {
   "cell_type": "code",
   "execution_count": 32,
   "id": "fc9830b2",
   "metadata": {},
   "outputs": [],
   "source": [
    "space = {\n",
    "    'n_estimators': hp.quniform('n_estimators', 25, 500, 25),\n",
    "    'max_depth': hp.quniform('max_depth', 1, 10, 1)\n",
    "}"
   ]
  },
  {
   "cell_type": "code",
   "execution_count": 33,
   "id": "06fbbf15",
   "metadata": {},
   "outputs": [],
   "source": [
    "def hyperparameter_tuning(params):\n",
    "    clf = RandomForestClassifier(n_jobs=4, **params)\n",
    "    acc = cross_val_score(clf, X_train_res, y_train_res,scoring=\"accuracy\", cv=StratifiedKFold()).mean()\n",
    "    return {\"loss\": -acc, \"status\": STATUS_OK}\n"
   ]
  },
  {
   "cell_type": "code",
   "execution_count": 35,
   "id": "2e2f9f05",
   "metadata": {},
   "outputs": [
    {
     "ename": "ValueError",
     "evalue": "invalid number of arguments",
     "output_type": "error",
     "traceback": [
      "\u001b[0;31m---------------------------------------------------------------------------\u001b[0m",
      "\u001b[0;31mValueError\u001b[0m                                Traceback (most recent call last)",
      "\u001b[0;32m<ipython-input-35-4574efb7b6e3>\u001b[0m in \u001b[0;36m<module>\u001b[0;34m\u001b[0m\n\u001b[0;32m----> 1\u001b[0;31m best = fmin(\n\u001b[0m\u001b[1;32m      2\u001b[0m     \u001b[0mfn\u001b[0m\u001b[0;34m=\u001b[0m\u001b[0mhyperparameter_tuning\u001b[0m\u001b[0;34m,\u001b[0m\u001b[0;34m\u001b[0m\u001b[0;34m\u001b[0m\u001b[0m\n\u001b[1;32m      3\u001b[0m     \u001b[0mspace\u001b[0m \u001b[0;34m=\u001b[0m \u001b[0mspace\u001b[0m\u001b[0;34m,\u001b[0m\u001b[0;34m\u001b[0m\u001b[0;34m\u001b[0m\u001b[0m\n\u001b[1;32m      4\u001b[0m     \u001b[0malgo\u001b[0m\u001b[0;34m=\u001b[0m\u001b[0mtpe\u001b[0m\u001b[0;34m.\u001b[0m\u001b[0msuggest\u001b[0m\u001b[0;34m,\u001b[0m\u001b[0;34m\u001b[0m\u001b[0;34m\u001b[0m\u001b[0m\n\u001b[1;32m      5\u001b[0m     \u001b[0mmax_evals\u001b[0m\u001b[0;34m=\u001b[0m\u001b[0;36m10\u001b[0m\u001b[0;34m\u001b[0m\u001b[0;34m\u001b[0m\u001b[0m\n",
      "\u001b[0;31mValueError\u001b[0m: invalid number of arguments"
     ]
    }
   ],
   "source": [
    "best = fmin(\n",
    "    fn=hyperparameter_tuning,\n",
    "    space = space, \n",
    "    algo=tpe.suggest, \n",
    "    max_evals=100\n",
    "    \n",
    ")"
   ]
  },
  {
   "cell_type": "code",
   "execution_count": null,
   "id": "df566588",
   "metadata": {},
   "outputs": [],
   "source": [
    "print(\"Hyperopt estimated optimum {}\".format(best))"
   ]
  },
  {
   "cell_type": "code",
   "execution_count": null,
   "id": "f113e781",
   "metadata": {},
   "outputs": [],
   "source": [
    "rf_model = RandomForestClassifier(n_estimators = ... , max_depth=  ...)\n",
    "rf_model.fit(X=X_train_res,y=y_train_res)\n",
    "\n",
    "roc_auc = roc_auc_score(y_test, rf_model.predict_proba(X_test)[:,1])\n",
    "print('AUC : %0.4f' %roc_auc)\n",
    "print(classification_report(y_test, rf_model.predict(X_test)))\n",
    "\n",
    "Performance(rf_model, y_test, rf_model.predict(X_test), rf_model.predict_proba(X_test)[:,1])"
   ]
  },
  {
   "cell_type": "markdown",
   "id": "a31a75ba",
   "metadata": {},
   "source": [
    "### 2. XGBoost    \n",
    "\n",
    "XGBoost est également basé sur un ensemble d’arbres de décision, mais différent de la forêt aléatoire. Les arbres ne sont pas moyennés, mais ajoutés. Les arbres de décision sont formés pour corriger les résidus des arbres précédents. L’idée est que de nombreux petits arbres de décision sont formés, chacun ajoutant un peu d’information pour améliorer les prévisions globales.  \n",
    "\n",
    "Les paramètres les plus importants sont :\n",
    "\n",
    "- Nombre d’arbres (n_estimators)\n",
    "- Taux d’apprentissage - les arbres postérieurs ont moins d’influence (taux d’apprentissage)\n",
    "- Complexité de l’arborescence (max_depth)\n",
    "- Gamma - Faire des arbres individuels conservateurs, réduire le overfitting\n",
    "- échantillon de colonne par arbre - réduire le overfitting"
   ]
  },
  {
   "cell_type": "code",
   "execution_count": null,
   "id": "a71b59bc",
   "metadata": {},
   "outputs": [],
   "source": [
    "import xgboost as xgb"
   ]
  },
  {
   "cell_type": "code",
   "execution_count": null,
   "id": "9c7e1753",
   "metadata": {},
   "outputs": [],
   "source": [
    "space = {\n",
    "    'max_depth': hp.quniform('max_depth', 2, 8, 1),\n",
    "    'colsample_bytree': hp.uniform('colsample_bytree', 0.3, 1.0),\n",
    "    'gamma': hp.uniform('gamma', 0.0, 0.5),\n",
    "}"
   ]
  },
  {
   "cell_type": "code",
   "execution_count": null,
   "id": "5885c857",
   "metadata": {},
   "outputs": [],
   "source": [
    "def hyperparameter_tuning(params):\n",
    "    clf = xgb.XGBClassifier(\n",
    "        n_estimators=250,\n",
    "        learning_rate=0.05,\n",
    "        n_jobs=4,\n",
    "        **params\n",
    "    acc = cross_val_score(clf, X_train_res, y_train_res,scoring=\"accuracy\", cv=StratifiedKFold()).mean()\n",
    "    return {\"loss\": -acc, \"status\": STATUS_OK}\n"
   ]
  },
  {
   "cell_type": "code",
   "execution_count": null,
   "id": "9e150466",
   "metadata": {},
   "outputs": [],
   "source": [
    "best = fmin(\n",
    "    fn=hyperparameter_tuning,\n",
    "    space = space, \n",
    "    algo=tpe.suggest, \n",
    "    max_evals=100\n",
    "    \n",
    ")"
   ]
  },
  {
   "cell_type": "code",
   "execution_count": null,
   "id": "b743d136",
   "metadata": {},
   "outputs": [],
   "source": [
    "xgb_model = xgb.XGBClassifier(colsample_bytree= ..., gamma: ... , max_depth= ...)\n",
    "xgb_model.fit(X=X_train_res,y=y_train_res)\n",
    "\n",
    "roc_auc = roc_auc_score(y_test, xgb_model.predict_proba(X_test)[:,1])\n",
    "print('AUC : %0.4f' %roc_auc)\n",
    "print(classification_report(y_test, xgb_model.predict(X_test)))\n",
    "\n",
    "Performance(xgb_model, y_test, xgb_model.predict(X_test), xgb_model.predict_proba(X_test)[:,1])"
   ]
  },
  {
   "cell_type": "markdown",
   "id": "31759cd5",
   "metadata": {},
   "source": [
    "### 3. LightGBM   \n",
    "\n",
    "LightGBM est très similaire à xgboost, il est également utilise une approche d’arbre boosté par gradient. L’explication ci-dessus tient également.\n",
    "\n",
    "Les paramètres importants à régler sont :\n",
    "\n",
    "- Nombre d’estimateurs\n",
    "- Complexité de l’arbre - en lightgbm qui est contrôlé par le nombre de feuilles (num_leaves)\n",
    "- Taux d’apprentissage\n",
    "- Feature fraction"
   ]
  },
  {
   "cell_type": "code",
   "execution_count": null,
   "id": "fd54f70b",
   "metadata": {},
   "outputs": [],
   "source": [
    "import lightgbm as lgbm"
   ]
  },
  {
   "cell_type": "code",
   "execution_count": null,
   "id": "26d91ac4",
   "metadata": {},
   "outputs": [],
   "source": [
    "space = {\n",
    "    'num_leaves': hp.quniform('num_leaves', 8, 128, 2),\n",
    "    'colsample_bytree': hp.uniform('colsample_bytree', 0.3, 1.0),\n",
    "}\n"
   ]
  },
  {
   "cell_type": "code",
   "execution_count": null,
   "id": "e210ba15",
   "metadata": {},
   "outputs": [],
   "source": [
    "def hyperparameter_tuning(params):\n",
    "    clf = lgbm.LGBMClassifier(\n",
    "        n_estimators=500,\n",
    "        learning_rate=0.01,\n",
    "        **params\n",
    "    )\n",
    "    acc = cross_val_score(clf, X_train_res, y_train_res,scoring=\"accuracy\", cv=StratifiedKFold()).mean()\n",
    "    return {\"loss\": -acc, \"status\": STATUS_OK}\n"
   ]
  },
  {
   "cell_type": "code",
   "execution_count": null,
   "id": "90c0eac8",
   "metadata": {},
   "outputs": [],
   "source": [
    "best = fmin(\n",
    "    fn=hyperparameter_tuning,\n",
    "    space = space, \n",
    "    algo=tpe.suggest, \n",
    "    max_evals=100\n",
    "    \n",
    ")"
   ]
  },
  {
   "cell_type": "code",
   "execution_count": null,
   "id": "9316c7f8",
   "metadata": {},
   "outputs": [],
   "source": [
    "lgbm_model = lgbm.LGBMClassifier(num_leaves = ... , colsample_bytree= ...)\n",
    "lgbm_model.fit(X=X_train_res,y=y_train_res)\n",
    "\n",
    "roc_auc = roc_auc_score(y_test, lgbm_model.predict_proba(X_test)[:,1])\n",
    "print('AUC : %0.4f' %roc_auc)\n",
    "print(classification_report(y_test, lgbm_model.predict(X_test)))\n",
    "\n",
    "Performance(lgbm_model, y_test, lgbm_model.predict(X_test), lgbm_model.predict_proba(X_test)[:,1])"
   ]
  }
 ],
 "metadata": {
  "kernelspec": {
   "display_name": "Python 3",
   "language": "python",
   "name": "python3"
  },
  "language_info": {
   "codemirror_mode": {
    "name": "ipython",
    "version": 3
   },
   "file_extension": ".py",
   "mimetype": "text/x-python",
   "name": "python",
   "nbconvert_exporter": "python",
   "pygments_lexer": "ipython3",
   "version": "3.8.8"
  }
 },
 "nbformat": 4,
 "nbformat_minor": 5
}
